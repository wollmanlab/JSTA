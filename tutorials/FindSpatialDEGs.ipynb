{
 "cells": [
  {
   "cell_type": "code",
   "execution_count": null,
   "id": "4bd18016",
   "metadata": {
    "ExecuteTime": {
     "end_time": "2021-10-08T16:22:16.071031Z",
     "start_time": "2021-10-08T16:22:16.068969Z"
    }
   },
   "outputs": [],
   "source": [
    "# Set number of threads to use\n",
    "import os\n",
    "nthreads = 8\n",
    "os.environ[\"MKL_NUM_THREADS\"] = str(nthreads)\n",
    "os.environ[\"NUMEXPR_NUM_THREADS\"] = str(nthreads)\n",
    "os.environ[\"OMP_NUM_THREADS\"] = str(nthreads)"
   ]
  },
  {
   "cell_type": "code",
   "execution_count": null,
   "id": "5645fb72",
   "metadata": {
    "ExecuteTime": {
     "end_time": "2021-10-08T16:22:16.074257Z",
     "start_time": "2021-10-08T16:22:16.071854Z"
    }
   },
   "outputs": [],
   "source": [
    "import sys\n",
    "import pickle as pkl"
   ]
  },
  {
   "cell_type": "code",
   "execution_count": null,
   "id": "570d907e",
   "metadata": {
    "ExecuteTime": {
     "end_time": "2021-10-08T16:22:16.077185Z",
     "start_time": "2021-10-08T16:22:16.075003Z"
    }
   },
   "outputs": [],
   "source": [
    "sys.path.insert(1, '../CoreFunctions/')"
   ]
  },
  {
   "cell_type": "code",
   "execution_count": null,
   "id": "9baf0ea8",
   "metadata": {
    "ExecuteTime": {
     "end_time": "2021-10-08T16:22:16.490575Z",
     "start_time": "2021-10-08T16:22:16.077814Z"
    }
   },
   "outputs": [],
   "source": [
    "from FindSpatialDEGs import *"
   ]
  },
  {
   "cell_type": "code",
   "execution_count": null,
   "id": "3d3e03f7",
   "metadata": {
    "ExecuteTime": {
     "end_time": "2021-10-08T16:22:16.576448Z",
     "start_time": "2021-10-08T16:22:16.491461Z"
    }
   },
   "outputs": [],
   "source": [
    "# DGE matrix for cells (cells x genes)\n",
    "cells_mat = pd.read_csv('data_for_spatial/cells_mat.txt.gz',\n",
    "                       index_col=0)\n",
    "# location of cell centers [x, y, z]\n",
    "with open('data_for_spatial/cell_centers.npy','rb') as f:\n",
    "    cell_cent = np.load(f)\n",
    "# vector of cell types\n",
    "with open('data_for_spatial/celltypes.pkl','rb') as f:\n",
    "    celltypes = pkl.load(f)"
   ]
  },
  {
   "cell_type": "code",
   "execution_count": null,
   "id": "b5b168dc",
   "metadata": {
    "ExecuteTime": {
     "end_time": "2021-10-08T16:22:16.578911Z",
     "start_time": "2021-10-08T16:22:16.577359Z"
    }
   },
   "outputs": [],
   "source": [
    "genes = cells_mat.columns"
   ]
  },
  {
   "cell_type": "markdown",
   "id": "fc3df2d8",
   "metadata": {},
   "source": [
    "## Example for one cell type"
   ]
  },
  {
   "cell_type": "code",
   "execution_count": null,
   "id": "71b7af2c",
   "metadata": {
    "ExecuteTime": {
     "end_time": "2021-10-08T16:22:18.649758Z",
     "start_time": "2021-10-08T16:22:16.580152Z"
    }
   },
   "outputs": [],
   "source": [
    "celltype_of_interest = 'CA1sp_2'\n",
    "nneighbors = 10\n",
    "npermutations = 1000\n",
    "ps_vec = get_spatial_pval(cells_mat, celltypes, cell_cent,\n",
    "                          celltype_of_interest, nneighbors, npermutations)\n",
    "ps_vec_with_gene = [[i[0], celltype_of_interest, genes[i[1]]] for i in ps_vec]"
   ]
  },
  {
   "cell_type": "markdown",
   "id": "01942fbf",
   "metadata": {
    "ExecuteTime": {
     "end_time": "2021-10-08T15:59:02.156393Z",
     "start_time": "2021-10-08T15:59:02.152447Z"
    }
   },
   "source": [
    "## Example for all cell types"
   ]
  },
  {
   "cell_type": "code",
   "execution_count": null,
   "id": "73e22340",
   "metadata": {
    "ExecuteTime": {
     "end_time": "2021-10-08T16:25:15.857211Z",
     "start_time": "2021-10-08T16:22:18.650894Z"
    }
   },
   "outputs": [],
   "source": [
    "ps_vec_with_gene_all_celltypes = []\n",
    "for celltype_of_interest in np.unique(celltypes):\n",
    "    print(celltype_of_interest)\n",
    "    ps_vec = get_spatial_pval(cells_mat, celltypes, cell_cent,\n",
    "                          celltype_of_interest, nneighbors, npermutations)\n",
    "    if ps_vec is not None:\n",
    "        for i in ps_vec:\n",
    "            ps_vec_with_gene_all_celltypes.append([i[0], celltype_of_interest, genes[i[1]]])\n",
    "        "
   ]
  }
 ],
 "metadata": {
  "hide_input": false,
  "kernelspec": {
   "display_name": "Python 3",
   "language": "python",
   "name": "python3"
  },
  "language_info": {
   "codemirror_mode": {
    "name": "ipython",
    "version": 3
   },
   "file_extension": ".py",
   "mimetype": "text/x-python",
   "name": "python",
   "nbconvert_exporter": "python",
   "pygments_lexer": "ipython3",
   "version": "3.6.13"
  },
  "toc": {
   "base_numbering": 1,
   "nav_menu": {},
   "number_sections": true,
   "sideBar": true,
   "skip_h1_title": false,
   "title_cell": "Table of Contents",
   "title_sidebar": "Contents",
   "toc_cell": false,
   "toc_position": {},
   "toc_section_display": true,
   "toc_window_display": false
  },
  "varInspector": {
   "cols": {
    "lenName": 16,
    "lenType": 16,
    "lenVar": 40
   },
   "kernels_config": {
    "python": {
     "delete_cmd_postfix": "",
     "delete_cmd_prefix": "del ",
     "library": "var_list.py",
     "varRefreshCmd": "print(var_dic_list())"
    },
    "r": {
     "delete_cmd_postfix": ") ",
     "delete_cmd_prefix": "rm(",
     "library": "var_list.r",
     "varRefreshCmd": "cat(var_dic_list()) "
    }
   },
   "types_to_exclude": [
    "module",
    "function",
    "builtin_function_or_method",
    "instance",
    "_Feature"
   ],
   "window_display": false
  }
 },
 "nbformat": 4,
 "nbformat_minor": 5
}
